{
 "cells": [
  {
   "cell_type": "markdown",
   "metadata": {},
   "source": [
    "# Utils"
   ]
  },
  {
   "cell_type": "code",
   "execution_count": 1,
   "metadata": {},
   "outputs": [],
   "source": [
    "from scripts import utils\n",
    "from scripts import metrics\n",
    "from scripts import inference_model\n",
    "from tqdm.notebook import tqdm"
   ]
  },
  {
   "cell_type": "code",
   "execution_count": 2,
   "metadata": {},
   "outputs": [],
   "source": [
    "DATASET_NAME = 'rcp-meetings/rudialogsum_v2'"
   ]
  },
  {
   "cell_type": "markdown",
   "metadata": {},
   "source": [
    "## MTSAIR_Cotype_Nano_inference"
   ]
  },
  {
   "cell_type": "code",
   "execution_count": 13,
   "metadata": {},
   "outputs": [],
   "source": [
    "MODEL_NAME = \"MTSAIR/Cotype-Nano\""
   ]
  },
  {
   "cell_type": "code",
   "execution_count": 4,
   "metadata": {},
   "outputs": [],
   "source": [
    "data = utils.get_dataset(DATASET_NAME)['train']"
   ]
  },
  {
   "cell_type": "code",
   "execution_count": 5,
   "metadata": {},
   "outputs": [],
   "source": [
    "pipe = utils.get_model_pipeline(MODEL_NAME)"
   ]
  },
  {
   "cell_type": "markdown",
   "metadata": {},
   "source": [
    "### zero_shot"
   ]
  },
  {
   "cell_type": "code",
   "execution_count": null,
   "metadata": {},
   "outputs": [],
   "source": [
    "infer_dict = {}\n",
    "\n",
    "for idx, text in tqdm(enumerate(data)):\n",
    "    messages = [\n",
    "        {\"role\": \"system\", \"content\": \"Реши задачу по инструкции ниже. Не давай никаких объяснений и пояснений к своему ответу. Инструкция: суммаризируй диалог до одного двух предложений.\"},\n",
    "        {\"role\": \"user\", \"content\": text['dialog']}\n",
    "        ]\n",
    "    pred = inference_model.get_predicts_hf(pipe, messages)\n",
    "    infer_dict[idx] = pred"
   ]
  },
  {
   "cell_type": "code",
   "execution_count": 8,
   "metadata": {},
   "outputs": [],
   "source": [
    "utils.save_json(infer_dict, './DATA/MTSAIR_Cotype_Nano_inference/pred_zero_shot.json')"
   ]
  },
  {
   "cell_type": "markdown",
   "metadata": {},
   "source": [
    "### one_shot"
   ]
  },
  {
   "cell_type": "code",
   "execution_count": null,
   "metadata": {},
   "outputs": [
    {
     "data": {
      "application/vnd.jupyter.widget-view+json": {
       "model_id": "993aa9d271de443295f4569be00da92b",
       "version_major": 2,
       "version_minor": 0
      },
      "text/plain": [
       "0it [00:00, ?it/s]"
      ]
     },
     "metadata": {},
     "output_type": "display_data"
    }
   ],
   "source": [
    "example_indices_full = [30]\n",
    "\n",
    "infer_dict = {}\n",
    "\n",
    "for idx, text in tqdm(enumerate(data)):\n",
    "    one_shot_prompt = utils.make_prompt(data, example_indices_full, idx)\n",
    "    messages = [\n",
    "        {\"role\": \"system\", \"content\": \"Ты ИИ-помощник. Инструкция: суммаризируй диалог до одного двух предложений.\"},\n",
    "        {\"role\": \"user\", \"content\": one_shot_prompt}\n",
    "        ]\n",
    "    pred = inference_model.get_predicts_hf(pipe, messages)\n",
    "    infer_dict[idx] = pred"
   ]
  },
  {
   "cell_type": "code",
   "execution_count": 10,
   "metadata": {},
   "outputs": [],
   "source": [
    "utils.save_json(infer_dict, './DATA/MTSAIR_Cotype_Nano_inference/pred_one_shot.json')"
   ]
  },
  {
   "cell_type": "markdown",
   "metadata": {},
   "source": [
    "## T_lite_it_1.0_Q8_0_GGUF"
   ]
  },
  {
   "cell_type": "code",
   "execution_count": 3,
   "metadata": {},
   "outputs": [],
   "source": [
    "MODEL_NAME = \"hf.co/t-tech/T-lite-it-1.0-Q8_0-GGUF:Q8_0\""
   ]
  },
  {
   "cell_type": "code",
   "execution_count": 4,
   "metadata": {},
   "outputs": [],
   "source": [
    "data = utils.get_dataset(DATASET_NAME)['train']"
   ]
  },
  {
   "cell_type": "markdown",
   "metadata": {},
   "source": [
    "### one_shot"
   ]
  },
  {
   "cell_type": "code",
   "execution_count": 5,
   "metadata": {},
   "outputs": [
    {
     "data": {
      "application/vnd.jupyter.widget-view+json": {
       "model_id": "477cc2ff269947c2865fa6e4df84c2b1",
       "version_major": 2,
       "version_minor": 0
      },
      "text/plain": [
       "0it [00:00, ?it/s]"
      ]
     },
     "metadata": {},
     "output_type": "display_data"
    }
   ],
   "source": [
    "example_indices_full = [30]\n",
    "\n",
    "infer_dict = {}\n",
    "\n",
    "for idx, text in tqdm(enumerate(data)):\n",
    "    one_shot_prompt = utils.make_prompt(data, example_indices_full, idx)\n",
    "    messages = [\n",
    "        {\"role\": \"system\", \"content\": \"Ты ИИ-помощник. Тебе даны два диалога, первый написан как пример, а второй нужно сократить до двух предложений. Не пиши ничего лишнего, только сокращенный текст.\"},\n",
    "        {\"role\": \"user\", \"content\": one_shot_prompt}\n",
    "        ]\n",
    "    pred = inference_model.get_predicts_ollama(MODEL_NAME, messages)\n",
    "    infer_dict[idx] = pred"
   ]
  },
  {
   "cell_type": "code",
   "execution_count": 6,
   "metadata": {},
   "outputs": [],
   "source": [
    "utils.save_json(infer_dict, './DATA/T_lite_it_1.0_Q8_0_GGUF/pred_one_shot.json')"
   ]
  },
  {
   "cell_type": "markdown",
   "metadata": {},
   "source": [
    "## T_pro_it_1.0_Q4_K_M_GGUF"
   ]
  },
  {
   "cell_type": "code",
   "execution_count": null,
   "metadata": {},
   "outputs": [],
   "source": [
    "MODEL_NAME = \"hf.co/t-tech/T-pro-it-1.0-Q4_K_M-GGUF:latest\""
   ]
  },
  {
   "cell_type": "code",
   "execution_count": null,
   "metadata": {},
   "outputs": [],
   "source": [
    "data = utils.get_dataset(DATASET_NAME)['train']"
   ]
  },
  {
   "cell_type": "markdown",
   "metadata": {},
   "source": [
    "### one shot"
   ]
  },
  {
   "cell_type": "code",
   "execution_count": null,
   "metadata": {},
   "outputs": [],
   "source": [
    "example_indices_full = [30]\n",
    "\n",
    "infer_dict = {}\n",
    "\n",
    "for idx, text in tqdm(enumerate(data)):\n",
    "    one_shot_prompt = utils.make_prompt(data, example_indices_full, idx)\n",
    "    messages = [\n",
    "        {\"role\": \"system\", \"content\": \"Ты ИИ-помощник. Тебе даны два диалога, первый написан как пример, а второй нужно сократить до двух предложений. Не пиши ничего лишнего, только сокращенный текст.\"},\n",
    "        {\"role\": \"user\", \"content\": one_shot_prompt}\n",
    "        ]\n",
    "    pred = inference_model.get_predicts_ollama(MODEL_NAME, messages)\n",
    "    infer_dict[idx] = pred"
   ]
  },
  {
   "cell_type": "code",
   "execution_count": null,
   "metadata": {},
   "outputs": [],
   "source": [
    "utils.save_json(infer_dict, './DATA/T_lite_it_1.0_Q8_0_GGUF/pred_one_shot.json')"
   ]
  },
  {
   "cell_type": "markdown",
   "metadata": {},
   "source": [
    "# Metrics"
   ]
  },
  {
   "cell_type": "code",
   "execution_count": 19,
   "metadata": {},
   "outputs": [],
   "source": [
    "data = utils.get_dataset(DATASET_NAME)['train']\n",
    "preds = utils.load_json('./DATA/T_pro_it_1.0_Q4_K_M_GGUF/pred_one_shot.json')\n",
    "preds = [preds[str(idx)] for idx in range(len(data))]"
   ]
  },
  {
   "cell_type": "code",
   "execution_count": 4,
   "metadata": {},
   "outputs": [
    {
     "name": "stderr",
     "output_type": "stream",
     "text": [
      "[nltk_data] Downloading package wordnet to\n",
      "[nltk_data]     C:\\Users\\wzakh\\AppData\\Roaming\\nltk_data...\n",
      "[nltk_data]   Package wordnet is already up-to-date!\n",
      "[nltk_data] Downloading package punkt_tab to\n",
      "[nltk_data]     C:\\Users\\wzakh\\AppData\\Roaming\\nltk_data...\n",
      "[nltk_data]   Package punkt_tab is already up-to-date!\n",
      "[nltk_data] Downloading package omw-1.4 to\n",
      "[nltk_data]     C:\\Users\\wzakh\\AppData\\Roaming\\nltk_data...\n",
      "[nltk_data]   Package omw-1.4 is already up-to-date!\n"
     ]
    },
    {
     "name": "stdout",
     "output_type": "stream",
     "text": [
      "Computing metrics...\n",
      "Rouge computed\n",
      "Bleu computed\n",
      "Meteor computed\n"
     ]
    },
    {
     "name": "stderr",
     "output_type": "stream",
     "text": [
      "c:\\Programs\\Anaconda\\envs\\NLP\\lib\\site-packages\\transformers\\models\\bert\\modeling_bert.py:440: UserWarning: 1Torch was not compiled with flash attention. (Triggered internally at C:\\actions-runner\\_work\\pytorch\\pytorch\\builder\\windows\\pytorch\\aten\\src\\ATen\\native\\transformers\\cuda\\sdp_utils.cpp:555.)\n",
      "  attn_output = torch.nn.functional.scaled_dot_product_attention(\n"
     ]
    },
    {
     "name": "stdout",
     "output_type": "stream",
     "text": [
      "Bertscore computed\n",
      "Metrics computed\n"
     ]
    }
   ],
   "source": [
    "metrics_model = metrics.get_metrics(preds, data['summary'])"
   ]
  },
  {
   "cell_type": "code",
   "execution_count": 16,
   "metadata": {},
   "outputs": [],
   "source": [
    "utils.save_json(metrics_model, './DATA/T_pro_it_1.0_Q4_K_M_GGUF/metrics_one_shot.json')"
   ]
  },
  {
   "cell_type": "markdown",
   "metadata": {},
   "source": [
    "# DATASET inference"
   ]
  },
  {
   "cell_type": "code",
   "execution_count": 28,
   "metadata": {},
   "outputs": [],
   "source": [
    "import json"
   ]
  },
  {
   "cell_type": "code",
   "execution_count": 3,
   "metadata": {},
   "outputs": [],
   "source": [
    "MODEL_NAME = \"hf.co/t-tech/T-lite-it-1.0-Q8_0-GGUF:Q8_0\"\n",
    "# MODEL_NAME = \"hf.co/t-tech/T-pro-it-1.0-Q4_K_M-GGUF:latest\""
   ]
  },
  {
   "cell_type": "code",
   "execution_count": 4,
   "metadata": {},
   "outputs": [],
   "source": [
    "data = utils.load_json('./DATASET/DATASET_DIALOG_SUMMARY.json')"
   ]
  },
  {
   "cell_type": "code",
   "execution_count": 16,
   "metadata": {},
   "outputs": [
    {
     "data": {
      "application/vnd.jupyter.widget-view+json": {
       "model_id": "027cc6fd2e1e43a4a4ae78e311dcea2c",
       "version_major": 2,
       "version_minor": 0
      },
      "text/plain": [
       "0it [00:00, ?it/s]"
      ]
     },
     "metadata": {},
     "output_type": "display_data"
    }
   ],
   "source": [
    "example_indices_full = [30]\n",
    "\n",
    "infer_dict = {}\n",
    "\n",
    "# первый семпл не учитыаем, тк берем его как пример промта\n",
    "for idx, text in tqdm(enumerate(range(len(data['dialog'])))):\n",
    "    # if idx in example_indices_full:\n",
    "    #     continue\n",
    "    one_shot_prompt = utils.make_prompt_final(data, example_indices_full, idx)\n",
    "    messages = [\n",
    "        {\"role\": \"system\", \"content\": \"Ты ИИ-помощник. Тебе даны два диалога, первый написан как пример, а второй нужно сократить до такой же структуры json файла, как и в примере. Напиши только JSON файл такой же структуры. Если у работника несколько задач, то перечисли их через запятую.\"},\n",
    "        {\"role\": \"user\", \"content\": one_shot_prompt}\n",
    "        ]\n",
    "    pred = inference_model.get_predicts_ollama(MODEL_NAME, messages)\n",
    "    infer_dict[idx] = pred"
   ]
  },
  {
   "cell_type": "code",
   "execution_count": 18,
   "metadata": {},
   "outputs": [],
   "source": [
    "utils.save_json(infer_dict, './DATASET/predicts/pred_one_shot_hard_prompt.json')"
   ]
  }
 ],
 "metadata": {
  "kernelspec": {
   "display_name": "NLP",
   "language": "python",
   "name": "python3"
  },
  "language_info": {
   "codemirror_mode": {
    "name": "ipython",
    "version": 3
   },
   "file_extension": ".py",
   "mimetype": "text/x-python",
   "name": "python",
   "nbconvert_exporter": "python",
   "pygments_lexer": "ipython3",
   "version": "3.10.15"
  }
 },
 "nbformat": 4,
 "nbformat_minor": 2
}
